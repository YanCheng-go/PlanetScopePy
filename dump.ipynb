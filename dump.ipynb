{
 "cells": [
  {
   "cell_type": "code",
   "execution_count": 1,
   "metadata": {},
   "outputs": [],
   "source": [
    "import Utilities as ut"
   ]
  },
  {
   "cell_type": "code",
   "execution_count": 2,
   "metadata": {},
   "outputs": [],
   "source": [
    "utt = ut.Utilities()"
   ]
  },
  {
   "cell_type": "code",
   "execution_count": 3,
   "metadata": {},
   "outputs": [],
   "source": [
    "utt.id_list = ['20190107_074019_1049']"
   ]
  },
  {
   "cell_type": "code",
   "execution_count": 4,
   "metadata": {},
   "outputs": [
    {
     "name": "stdout",
     "output_type": "stream",
     "text": [
      "Start GDAL clip :)\n",
      "['C:\\\\Users\\\\ChengY\\\\Desktop\\\\raw\\\\20190107_074019_1049_3B_AnalyticMS_SR.tif', 'C:\\\\Users\\\\ChengY\\\\Desktop\\\\raw\\\\20190107_074019_1049_3B_udm2.tif']\n"
     ]
    },
    {
     "name": "stderr",
     "output_type": "stream",
     "text": [
      "Clipping images: 100%|█████████████████████████████████████████████████████████████████| 2/2 [00:02<00:00,  1.04s/item]\n"
     ]
    },
    {
     "name": "stdout",
     "output_type": "stream",
     "text": [
      "Finish GDAL Clip :)\n",
      "The outputs have been saved in this directory: C:\\Users\\ChengY\\Desktop\\clip\n"
     ]
    }
   ],
   "source": [
    "utt.gdal_clip()"
   ]
  },
  {
   "cell_type": "code",
   "execution_count": 4,
   "metadata": {},
   "outputs": [
    {
     "name": "stdout",
     "output_type": "stream",
     "text": [
      "Start GDAL band calculation :)\n",
      "Finish GDAL Calculation :)\n",
      "The outputs have been saved in this directory: C:\\Users\\ChengY\\Desktop\\cloud_mask\n"
     ]
    }
   ],
   "source": [
    "utt.gdal_cal()"
   ]
  },
  {
   "cell_type": "code",
   "execution_count": 3,
   "metadata": {},
   "outputs": [],
   "source": [
    "import Utilities as utils\n",
    "from planet import api\n",
    "from planet.api import filters\n",
    "\n",
    "ut = utils.Utilities()\n",
    "# Create filter\n",
    "and_filter = ut.create_filter()\n",
    "# Search items\n",
    "req = filters.build_search_request(and_filter, ut.item_types)\n",
    "res = ut.client.quick_search(req)\n"
   ]
  },
  {
   "cell_type": "code",
   "execution_count": 13,
   "metadata": {},
   "outputs": [
    {
     "name": "stdout",
     "output_type": "stream",
     "text": [
      "{'_links': {'_self': 'https://api.planet.com/data/v1/item-types/PSScene4Band/items/20190127_073517_0f49', 'assets': 'https://api.planet.com/data/v1/item-types/PSScene4Band/items/20190127_073517_0f49/assets/', 'thumbnail': 'https://tiles.planet.com/data/v1/item-types/PSScene4Band/items/20190127_073517_0f49/thumb'}, '_permissions': ['assets.udm:download', 'assets.analytic:download', 'assets.analytic_xml:download', 'assets.analytic_dn:download', 'assets.analytic_dn_xml:download', 'assets.basic_analytic:download', 'assets.basic_analytic_rpc:download', 'assets.basic_analytic_dn:download', 'assets.basic_analytic_dn_rpc:download', 'assets.basic_analytic_xml:download', 'assets.basic_analytic_dn_xml:download', 'assets.basic_analytic_dn_nitf:download', 'assets.basic_analytic_dn_rpc_nitf:download', 'assets.basic_analytic_dn_xml_nitf:download', 'assets.basic_analytic_nitf:download', 'assets.basic_analytic_rpc_nitf:download', 'assets.basic_analytic_xml_nitf:download', 'assets.basic_udm:download', 'assets.analytic_sr:download', 'assets.basic_udm2:download', 'assets.udm2:download'], 'geometry': {'coordinates': [[[37.388516258283005, -1.600663572210178], [37.1837829706374, -1.63875881252786], [37.17180976331269, -1.572230763800692], [37.37609570900331, -1.534394874940491], [37.3776643571271, -1.543051932700699], [37.378023500543236, -1.54298506148909], [37.388516258283005, -1.600663572210178]]], 'type': 'Polygon'}, 'id': '20190127_073517_0f49', 'properties': {'acquired': '2019-01-27T07:35:17.59667Z', 'anomalous_pixels': 0, 'clear_percent': 85, 'cloud_cover': 0.05, 'cloud_percent': 11, 'columns': 8041, 'epsg_code': 32737, 'ground_control': True, 'gsd': 3.5, 'instrument': 'PS2', 'item_type': 'PSScene4Band', 'origin_x': 296607, 'origin_y': 9830337, 'pixel_resolution': 3, 'provider': 'planetscope', 'published': '2019-03-21T00:47:13.563Z', 'quality_category': 'standard', 'rows': 3854, 'satellite_id': '0f49', 'strip_id': '2064573', 'sun_azimuth': 120.5, 'sun_elevation': 54.5, 'updated': '2019-03-21T00:57:19.493Z', 'usable_data': 0, 'view_angle': 3}, 'type': 'Feature'}\n"
     ]
    }
   ],
   "source": [
    "import json\n",
    "for i in res.items_iter(250):\n",
    "    if i['id'] == '20190127_073517_0f49':\n",
    "        print(str(i))"
   ]
  },
  {
   "cell_type": "code",
   "execution_count": null,
   "metadata": {},
   "outputs": [],
   "source": []
  }
 ],
 "metadata": {
  "kernelspec": {
   "display_name": "Python 3",
   "language": "python",
   "name": "python3"
  },
  "language_info": {
   "codemirror_mode": {
    "name": "ipython",
    "version": 3
   },
   "file_extension": ".py",
   "mimetype": "text/x-python",
   "name": "python",
   "nbconvert_exporter": "python",
   "pygments_lexer": "ipython3",
   "version": "3.7.4"
  }
 },
 "nbformat": 4,
 "nbformat_minor": 2
}
