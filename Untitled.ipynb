{
 "cells": [
  {
   "cell_type": "code",
   "execution_count": 1,
   "metadata": {},
   "outputs": [],
   "source": [
    "import Utilities as ut"
   ]
  },
  {
   "cell_type": "code",
   "execution_count": 2,
   "metadata": {},
   "outputs": [],
   "source": [
    "utt = ut.Utilities()"
   ]
  },
  {
   "cell_type": "code",
   "execution_count": 3,
   "metadata": {},
   "outputs": [],
   "source": [
    "utt.id_list = ['20190107_074019_1049']"
   ]
  },
  {
   "cell_type": "code",
   "execution_count": 4,
   "metadata": {},
   "outputs": [
    {
     "name": "stdout",
     "output_type": "stream",
     "text": [
      "Start GDAL clip :)\n",
      "['C:\\\\Users\\\\ChengY\\\\Desktop\\\\raw\\\\20190107_074019_1049_3B_AnalyticMS_SR.tif', 'C:\\\\Users\\\\ChengY\\\\Desktop\\\\raw\\\\20190107_074019_1049_3B_udm2.tif']\n"
     ]
    },
    {
     "name": "stderr",
     "output_type": "stream",
     "text": [
      "Clipping images: 100%|█████████████████████████████████████████████████████████████████| 2/2 [00:02<00:00,  1.04s/item]\n"
     ]
    },
    {
     "name": "stdout",
     "output_type": "stream",
     "text": [
      "Finish GDAL Clip :)\n",
      "The outputs have been saved in this directory: C:\\Users\\ChengY\\Desktop\\clip\n"
     ]
    }
   ],
   "source": [
    "utt.gdal_clip()"
   ]
  },
  {
   "cell_type": "code",
   "execution_count": 4,
   "metadata": {},
   "outputs": [
    {
     "name": "stdout",
     "output_type": "stream",
     "text": [
      "Start GDAL band calculation :)\n",
      "Finish GDAL Calculation :)\n",
      "The outputs have been saved in this directory: C:\\Users\\ChengY\\Desktop\\cloud_mask\n"
     ]
    }
   ],
   "source": [
    "utt.gdal_cal()"
   ]
  },
  {
   "cell_type": "code",
   "execution_count": null,
   "metadata": {},
   "outputs": [],
   "source": []
  }
 ],
 "metadata": {
  "kernelspec": {
   "display_name": "Python 3",
   "language": "python",
   "name": "python3"
  },
  "language_info": {
   "codemirror_mode": {
    "name": "ipython",
    "version": 3
   },
   "file_extension": ".py",
   "mimetype": "text/x-python",
   "name": "python",
   "nbconvert_exporter": "python",
   "pygments_lexer": "ipython3",
   "version": "3.7.4"
  }
 },
 "nbformat": 4,
 "nbformat_minor": 2
}
